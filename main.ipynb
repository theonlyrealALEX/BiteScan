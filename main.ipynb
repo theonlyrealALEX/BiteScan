{
 "cells": [
  {
   "cell_type": "code",
   "execution_count": 1,
   "metadata": {},
   "outputs": [],
   "source": [
    "import tensorflow as tf\n",
    "import tensorflow.python.keras as keras\n",
    "import os"
   ]
  },
  {
   "cell_type": "code",
   "execution_count": 2,
   "metadata": {},
   "outputs": [
    {
     "name": "stdout",
     "output_type": "stream",
     "text": [
      "Bad file: data/train/.DS_Store\n",
      "Bad file: data/validation/.DS_Store\n",
      "Bad file: data/test/.DS_Store\n",
      "Found 310 images belonging to 2 classes.\n",
      "Found 10 images belonging to 2 classes.\n",
      "Found 11 images belonging to 2 classes.\n"
     ]
    }
   ],
   "source": [
    "from keras.preprocessing.image import ImageDataGenerator\n",
    "from PIL import Image\n",
    "\n",
    "train_dir = 'data/train'\n",
    "validation_dir = 'data/validation'\n",
    "test_dir = 'data/test'\n",
    "\n",
    "dirs = [train_dir, validation_dir, test_dir]\n",
    "\n",
    "for dir in dirs:\n",
    "    for subdir, dirs, files in os.walk(dir):\n",
    "        for file in files:\n",
    "            file_path = os.path.join(subdir, file)\n",
    "            try:\n",
    "                img = Image.open(file_path)  # try to open the image\n",
    "                img.verify()  # verify that it is, in fact an image\n",
    "            except (IOError, SyntaxError) as e:\n",
    "                print('Bad file:', file_path)  # print out the names of corrupt files\n",
    "                os.remove(file_path)  # uncomment this line to delete these files\n",
    "\n",
    "# Set up parameters for datasets\n",
    "target_size = (150, 150)  # Resize images to 150x150\n",
    "batch_size = 32\n",
    "\n",
    "# Create an ImageDataGenerator for the training set\n",
    "train_datagen = ImageDataGenerator(rescale=1./255)  # Normalize pixel values\n",
    "\n",
    "train_generator = train_datagen.flow_from_directory(\n",
    "    train_dir,\n",
    "    target_size=target_size,  # All images will be resized to target_size\n",
    "    batch_size=batch_size,\n",
    "    class_mode='binary')  # Since you have two classes, use binary\n",
    "\n",
    "# Create an ImageDataGenerator for the validation set\n",
    "validation_datagen = ImageDataGenerator(rescale=1./255)  # Normalize pixel values\n",
    "\n",
    "validation_generator = validation_datagen.flow_from_directory(\n",
    "    validation_dir,\n",
    "    target_size=target_size,  # All images will be resized to target_size\n",
    "    batch_size=batch_size,\n",
    "    class_mode='binary')  # Since you have two classes, use binary\n",
    "\n",
    "# Create an ImageDataGenerator for the test set\n",
    "test_datagen = ImageDataGenerator(rescale=1./255)  # Normalize pixel values\n",
    "\n",
    "test_generator = test_datagen.flow_from_directory(\n",
    "    test_dir,\n",
    "    target_size=target_size,  # All images will be resized to target_size\n",
    "    batch_size=batch_size,\n",
    "    class_mode='binary')  # Since you have two classes, use binary"
   ]
  },
  {
   "cell_type": "code",
   "execution_count": 3,
   "metadata": {},
   "outputs": [
    {
     "name": "stdout",
     "output_type": "stream",
     "text": [
      "Model: \"sequential\"\n",
      "_________________________________________________________________\n",
      " Layer (type)                Output Shape              Param #   \n",
      "=================================================================\n",
      " conv2d (Conv2D)             (None, 148, 148, 32)      896       \n",
      "                                                                 \n",
      " max_pooling2d (MaxPooling2  (None, 74, 74, 32)        0         \n",
      " D)                                                              \n",
      "                                                                 \n",
      " conv2d_1 (Conv2D)           (None, 72, 72, 64)        18496     \n",
      "                                                                 \n",
      " max_pooling2d_1 (MaxPoolin  (None, 36, 36, 64)        0         \n",
      " g2D)                                                            \n",
      "                                                                 \n",
      " conv2d_2 (Conv2D)           (None, 34, 34, 128)       73856     \n",
      "                                                                 \n",
      " max_pooling2d_2 (MaxPoolin  (None, 17, 17, 128)       0         \n",
      " g2D)                                                            \n",
      "                                                                 \n",
      " conv2d_3 (Conv2D)           (None, 15, 15, 128)       147584    \n",
      "                                                                 \n",
      " max_pooling2d_3 (MaxPoolin  (None, 7, 7, 128)         0         \n",
      " g2D)                                                            \n",
      "                                                                 \n",
      " flatten (Flatten)           (None, 6272)              0         \n",
      "                                                                 \n",
      " dense (Dense)               (None, 512)               3211776   \n",
      "                                                                 \n",
      " dense_1 (Dense)             (None, 1)                 513       \n",
      "                                                                 \n",
      "=================================================================\n",
      "Total params: 3453121 (13.17 MB)\n",
      "Trainable params: 3453121 (13.17 MB)\n",
      "Non-trainable params: 0 (0.00 Byte)\n",
      "_________________________________________________________________\n"
     ]
    }
   ],
   "source": [
    "from keras.models import Sequential\n",
    "from keras.layers import Conv2D, MaxPooling2D, Flatten, Dense, Dropout\n",
    "\n",
    "model = Sequential([\n",
    "    Conv2D(32, (3, 3), activation='relu', input_shape=(150, 150, 3)), # Input shape matches the target_size and 3 color channels\n",
    "    MaxPooling2D((2, 2)),\n",
    "    Conv2D(64, (3, 3), activation='relu'),\n",
    "    MaxPooling2D((2, 2)),\n",
    "    Conv2D(128, (3, 3), activation='relu'),\n",
    "    MaxPooling2D((2, 2)),\n",
    "    Conv2D(128, (3, 3), activation='relu'),\n",
    "    MaxPooling2D((2, 2)),\n",
    "    Flatten(),\n",
    "    Dense(512, activation='relu'),\n",
    "    Dense(1, activation='sigmoid')  # For binary classification, we can use a sigmoid activation function in the output layer\n",
    "])\n",
    "\n",
    "# You can see the details of the model using model.summary()\n",
    "model.summary()\n",
    "\n",
    "# Compiling the model\n",
    "model.compile(loss='binary_crossentropy',  # Binary crossentropy is a common choice for binary classification\n",
    "              optimizer='adam',\n",
    "              metrics=['accuracy'])\n"
   ]
  },
  {
   "cell_type": "code",
   "execution_count": 4,
   "metadata": {},
   "outputs": [
    {
     "name": "stdout",
     "output_type": "stream",
     "text": [
      "Epoch 1/30\n"
     ]
    },
    {
     "name": "stderr",
     "output_type": "stream",
     "text": [
      "2023-05-26 12:42:16.517572: I tensorflow/core/common_runtime/executor.cc:1210] [/device:CPU:0] (DEBUG INFO) Executor start aborting (this does not indicate an error and you can ignore this message): INVALID_ARGUMENT: You must feed a value for placeholder tensor 'Placeholder/_0' with dtype int32\n",
      "\t [[{{node Placeholder/_0}}]]\n",
      "/Users/wachowiak/My Drive (alexander.c.wachowiak@gmail.com)/Documents/Projects/BiteScan/myenv/lib/python3.11/site-packages/PIL/Image.py:992: UserWarning: Palette images with Transparency expressed in bytes should be converted to RGBA images\n",
      "  warnings.warn(\n"
     ]
    },
    {
     "name": "stdout",
     "output_type": "stream",
     "text": [
      "9/9 [==============================] - 3s 292ms/step - loss: 0.7228 - accuracy: 0.4784\n"
     ]
    },
    {
     "name": "stderr",
     "output_type": "stream",
     "text": [
      "2023-05-26 12:42:19.931592: I tensorflow/core/common_runtime/executor.cc:1210] [/device:CPU:0] (DEBUG INFO) Executor start aborting (this does not indicate an error and you can ignore this message): INVALID_ARGUMENT: You must feed a value for placeholder tensor 'Placeholder/_0' with dtype int32\n",
      "\t [[{{node Placeholder/_0}}]]\n"
     ]
    },
    {
     "name": "stdout",
     "output_type": "stream",
     "text": [
      "Epoch 2/30\n",
      "9/9 [==============================] - 3s 380ms/step - loss: 0.6938 - accuracy: 0.5108\n",
      "Epoch 3/30\n",
      "9/9 [==============================] - 3s 353ms/step - loss: 0.6856 - accuracy: 0.5468\n",
      "Epoch 4/30\n",
      "9/9 [==============================] - 3s 337ms/step - loss: 0.6705 - accuracy: 0.5863\n",
      "Epoch 5/30\n",
      "9/9 [==============================] - 4s 417ms/step - loss: 0.6572 - accuracy: 0.6439\n",
      "Epoch 6/30\n",
      "9/9 [==============================] - 4s 433ms/step - loss: 0.6364 - accuracy: 0.6389\n",
      "Epoch 7/30\n",
      "9/9 [==============================] - 4s 419ms/step - loss: 0.6040 - accuracy: 0.6736\n",
      "Epoch 8/30\n",
      "9/9 [==============================] - 3s 363ms/step - loss: 0.6176 - accuracy: 0.6458\n",
      "Epoch 9/30\n",
      "9/9 [==============================] - 3s 377ms/step - loss: 0.5864 - accuracy: 0.6655\n",
      "Epoch 10/30\n",
      "9/9 [==============================] - 3s 367ms/step - loss: 0.5567 - accuracy: 0.7194\n",
      "Epoch 11/30\n",
      "9/9 [==============================] - 3s 384ms/step - loss: 0.5565 - accuracy: 0.6910\n",
      "Epoch 12/30\n",
      "9/9 [==============================] - 3s 370ms/step - loss: 0.5622 - accuracy: 0.7302\n",
      "Epoch 13/30\n",
      "9/9 [==============================] - 3s 362ms/step - loss: 0.5272 - accuracy: 0.7266\n",
      "Epoch 14/30\n",
      "9/9 [==============================] - 3s 346ms/step - loss: 0.4980 - accuracy: 0.7554\n",
      "Epoch 15/30\n",
      "9/9 [==============================] - 3s 358ms/step - loss: 0.4816 - accuracy: 0.7518\n",
      "Epoch 16/30\n",
      "9/9 [==============================] - 3s 341ms/step - loss: 0.4537 - accuracy: 0.7842\n",
      "Epoch 17/30\n",
      "9/9 [==============================] - 3s 373ms/step - loss: 0.5093 - accuracy: 0.7194\n",
      "Epoch 18/30\n",
      "9/9 [==============================] - 3s 352ms/step - loss: 0.5168 - accuracy: 0.7518\n",
      "Epoch 19/30\n",
      "9/9 [==============================] - 3s 332ms/step - loss: 0.4530 - accuracy: 0.7914\n",
      "Epoch 20/30\n",
      "9/9 [==============================] - 3s 356ms/step - loss: 0.3799 - accuracy: 0.8237\n",
      "Epoch 21/30\n",
      "9/9 [==============================] - 3s 357ms/step - loss: 0.3664 - accuracy: 0.8417\n",
      "Epoch 22/30\n",
      "9/9 [==============================] - 3s 341ms/step - loss: 0.3388 - accuracy: 0.8489\n",
      "Epoch 23/30\n",
      "9/9 [==============================] - 4s 379ms/step - loss: 0.3405 - accuracy: 0.8489\n",
      "Epoch 24/30\n",
      "9/9 [==============================] - 3s 357ms/step - loss: 0.3176 - accuracy: 0.8885\n",
      "Epoch 25/30\n",
      "9/9 [==============================] - 4s 413ms/step - loss: 0.3086 - accuracy: 0.8633\n",
      "Epoch 26/30\n",
      "9/9 [==============================] - 4s 408ms/step - loss: 0.2869 - accuracy: 0.8525\n",
      "Epoch 27/30\n",
      "9/9 [==============================] - 4s 385ms/step - loss: 0.2125 - accuracy: 0.9132\n",
      "Epoch 28/30\n",
      "9/9 [==============================] - 4s 431ms/step - loss: 0.2611 - accuracy: 0.8849\n",
      "Epoch 29/30\n",
      "9/9 [==============================] - 4s 389ms/step - loss: 0.2026 - accuracy: 0.9101\n",
      "Epoch 30/30\n",
      "9/9 [==============================] - 5s 501ms/step - loss: 0.1891 - accuracy: 0.9173\n"
     ]
    }
   ],
   "source": [
    "history = model.fit(\n",
    "    train_generator,\n",
    "    steps_per_epoch=train_generator.samples // batch_size,  # // operator in python performs integer division\n",
    "    epochs=30,  # You might need to adjust the number of epochs based on your specific use case\n",
    "    validation_data=validation_generator,\n",
    "    validation_steps=validation_generator.samples // batch_size\n",
    ")"
   ]
  },
  {
   "cell_type": "code",
   "execution_count": 5,
   "metadata": {},
   "outputs": [
    {
     "name": "stdout",
     "output_type": "stream",
     "text": [
      "1/1 [==============================] - 0s 152ms/step - loss: 0.1838 - accuracy: 0.9091\n",
      "Test accuracy: 0.9090909361839294\n"
     ]
    },
    {
     "name": "stderr",
     "output_type": "stream",
     "text": [
      "2023-05-26 12:44:05.532574: I tensorflow/core/common_runtime/executor.cc:1210] [/device:CPU:0] (DEBUG INFO) Executor start aborting (this does not indicate an error and you can ignore this message): INVALID_ARGUMENT: You must feed a value for placeholder tensor 'Placeholder/_0' with dtype int32\n",
      "\t [[{{node Placeholder/_0}}]]\n"
     ]
    }
   ],
   "source": [
    "if test_generator.samples // batch_size > 0:\n",
    "    steps = test_generator.samples // batch_size\n",
    "else:\n",
    "    steps = 1\n",
    "\n",
    "test_loss, test_acc = model.evaluate(test_generator, steps=steps)\n",
    "print('Test accuracy:', test_acc)"
   ]
  },
  {
   "cell_type": "code",
   "execution_count": 11,
   "metadata": {},
   "outputs": [
    {
     "name": "stderr",
     "output_type": "stream",
     "text": [
      "/Users/wachowiak/My Drive (alexander.c.wachowiak@gmail.com)/Documents/Projects/BiteScan/myenv/lib/python3.11/site-packages/keras/src/engine/training.py:3000: UserWarning: You are saving your model as an HDF5 file via `model.save()`. This file format is considered legacy. We recommend using instead the native Keras format, e.g. `model.save('my_model.keras')`.\n",
      "  saving_api.save_model(\n"
     ]
    },
    {
     "name": "stdout",
     "output_type": "stream",
     "text": [
      "INFO:tensorflow:Assets written to: /var/folders/0f/whfmwdtx51n29d36d1wck4j00000gn/T/tmpp4s44kcg/assets\n"
     ]
    },
    {
     "name": "stderr",
     "output_type": "stream",
     "text": [
      "INFO:tensorflow:Assets written to: /var/folders/0f/whfmwdtx51n29d36d1wck4j00000gn/T/tmpp4s44kcg/assets\n"
     ]
    },
    {
     "name": "stdout",
     "output_type": "stream",
     "text": [
      "Full model saved to: ./models/full/full_model_tick_mosquito_classifier.h5\n",
      "Lite model saved to: ./models/lite/lite_model_tick_mosquito_classifier.tflite\n"
     ]
    },
    {
     "name": "stderr",
     "output_type": "stream",
     "text": [
      "2023-05-26 12:51:15.154343: W tensorflow/compiler/mlir/lite/python/tf_tfl_flatbuffer_helpers.cc:364] Ignored output_format.\n",
      "2023-05-26 12:51:15.154353: W tensorflow/compiler/mlir/lite/python/tf_tfl_flatbuffer_helpers.cc:367] Ignored drop_control_dependency.\n",
      "2023-05-26 12:51:15.154463: I tensorflow/cc/saved_model/reader.cc:45] Reading SavedModel from: /var/folders/0f/whfmwdtx51n29d36d1wck4j00000gn/T/tmpp4s44kcg\n",
      "2023-05-26 12:51:15.155377: I tensorflow/cc/saved_model/reader.cc:91] Reading meta graph with tags { serve }\n",
      "2023-05-26 12:51:15.155382: I tensorflow/cc/saved_model/reader.cc:132] Reading SavedModel debug info (if present) from: /var/folders/0f/whfmwdtx51n29d36d1wck4j00000gn/T/tmpp4s44kcg\n",
      "2023-05-26 12:51:15.158469: I tensorflow/cc/saved_model/loader.cc:231] Restoring SavedModel bundle.\n",
      "2023-05-26 12:51:15.232299: I tensorflow/cc/saved_model/loader.cc:215] Running initialization op on SavedModel bundle at path: /var/folders/0f/whfmwdtx51n29d36d1wck4j00000gn/T/tmpp4s44kcg\n",
      "2023-05-26 12:51:15.243742: I tensorflow/cc/saved_model/loader.cc:314] SavedModel load for tags { serve }; Status: success: OK. Took 89278 microseconds.\n"
     ]
    }
   ],
   "source": [
    "import tensorflow as tf\n",
    "from tensorflow import keras\n",
    "import os\n",
    "\n",
    "models_dir = './models'\n",
    "os.makedirs(os.path.join(models_dir, 'full'), exist_ok=True)  # Create the full models directory if it doesn't exist\n",
    "os.makedirs(os.path.join(models_dir, 'lite'), exist_ok=True)  # Create the lite models directory if it doesn't exist\n",
    "\n",
    "# Save the trained model in the models directory\n",
    "model_name = 'model_tick_mosquito_classifier'\n",
    "\n",
    "full_model_name = 'full_' + model_name\n",
    "lite_model_name = 'lite_' + model_name\n",
    "\n",
    "model.save(os.path.join(models_dir, 'full', full_model_name + '.h5'))\n",
    "\n",
    "model.save(os.path.join(models_dir, 'lite', lite_model_name + '.h5'))\n",
    "\n",
    "# Convert the Keras model to TensorFlow Lite\n",
    "converter = tf.lite.TFLiteConverter.from_keras_model(model)\n",
    "tflite_model = converter.convert()\n",
    "\n",
    "# Save the TFLite model to a file\n",
    "with open(os.path.join(models_dir, 'lite', lite_model_name + '.tflite'), 'wb') as f:\n",
    "    f.write(tflite_model)\n",
    "\n",
    "print('Full model saved to:', os.path.join(models_dir, 'full', full_model_name + '.h5'))\n",
    "print('Lite model saved to:', os.path.join(models_dir, 'lite', lite_model_name + '.tflite'))"
   ]
  }
 ],
 "metadata": {
  "kernelspec": {
   "display_name": "myenv",
   "language": "python",
   "name": "python3"
  },
  "language_info": {
   "codemirror_mode": {
    "name": "ipython",
    "version": 3
   },
   "file_extension": ".py",
   "mimetype": "text/x-python",
   "name": "python",
   "nbconvert_exporter": "python",
   "pygments_lexer": "ipython3",
   "version": "3.11.2"
  },
  "orig_nbformat": 4
 },
 "nbformat": 4,
 "nbformat_minor": 2
}
