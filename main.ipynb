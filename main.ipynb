{
 "cells": [
  {
   "cell_type": "code",
   "execution_count": null,
   "metadata": {},
   "outputs": [],
   "source": [
    "import tensorflow as tf\n",
    "import tensorflow.python.keras as keras\n",
    "import os"
   ]
  },
  {
   "cell_type": "code",
   "execution_count": null,
   "metadata": {},
   "outputs": [
    {
     "name": "stdout",
     "output_type": "stream",
     "text": [
      "Bad file: data/train/.DS_Store\n",
      "Bad file: data/train/mosquito/00000213.jpg\n",
      "Bad file: data/train/mosquito/00000013.jpg\n",
      "Bad file: data/train/mosquito/00000238.jpg\n",
      "Bad file: data/train/mosquito/00000012.jpg\n",
      "Bad file: data/train/mosquito/00000006.jpg\n",
      "Bad file: data/train/mosquito/00000358.jpg\n",
      "Bad file: data/train/mosquito/00000214.jpg\n",
      "Bad file: data/train/mosquito/00000202.jpg\n",
      "Bad file: data/train/mosquito/00000270.jpg\n",
      "Bad file: data/train/mosquito/00000066.jpg\n",
      "Bad file: data/train/mosquito/00000306.jpg\n",
      "Bad file: data/train/mosquito/00000299.jpg\n",
      "Bad file: data/train/mosquito/00000273.jpg\n",
      "Bad file: data/train/mosquito/00000049.jpg\n",
      "Bad file: data/train/mosquito/00000276.jpg\n",
      "Bad file: data/train/mosquito/00000328.jpg\n",
      "Bad file: data/train/mosquito/00000116.jpg\n",
      "Bad file: data/train/mosquito/00000248.jpg\n",
      "Bad file: data/train/mosquito/00000275.jpg\n",
      "Bad file: data/train/mosquito/00000103.jpg\n",
      "Bad file: data/train/mosquito/00000244.jpg\n",
      "Bad file: data/train/mosquito/00000133.jpg\n",
      "Bad file: data/train/mosquito/00000246.jpg\n",
      "Bad file: data/train/mosquito/00000054.jpg\n",
      "Bad file: data/train/mosquito/00000055.jpg\n",
      "Bad file: data/train/mosquito/00000041.jpg\n",
      "Bad file: data/train/mosquito/00000135.jpg\n",
      "Bad file: data/train/mosquito/00000094.jpg\n",
      "Bad file: data/train/mosquito/00000308.jpg\n",
      "Bad file: data/train/mosquito/00000334.jpg\n",
      "Bad file: data/train/mosquito/00000150.jpg\n",
      "Bad file: data/train/mosquito/00000385.jpg\n",
      "Bad file: data/train/mosquito/00000344.jpg\n",
      "Bad file: data/train/mosquito/00000152.jpg\n",
      "Bad file: data/train/mosquito/00000230.jpg\n",
      "Bad file: data/train/mosquito/00000219.jpg\n",
      "Bad file: data/train/mosquito/00000147.jpg\n",
      "Bad file: data/train/mosquito/00000143.jpg\n",
      "Bad file: data/train/mosquito/00000209.jpg\n",
      "Bad file: data/train/mosquito/00000008.jpg\n",
      "Bad file: data/train/mosquito/00000343.jpg\n",
      "Bad file: data/train/tick/00000170.jpg\n",
      "Bad file: data/train/tick/00000039.jpg\n",
      "Bad file: data/train/tick/00000359.jpg\n",
      "Bad file: data/train/tick/00000215.jpg\n",
      "Bad file: data/train/tick/00000188.jpg\n",
      "Bad file: data/train/tick/00000175.jpg\n",
      "Bad file: data/train/tick/00000029.jpg\n",
      "Bad file: data/train/tick/00000113.jpg\n",
      "Bad file: data/train/tick/00000271.jpg\n",
      "Bad file: data/train/tick/00000066.jpg\n",
      "Bad file: data/train/tick/00000303.jpg\n",
      "Bad file: data/train/tick/00000289.jpg\n",
      "Bad file: data/train/tick/00000262.jpg\n",
      "Bad file: data/train/tick/00000048.jpg\n",
      "Bad file: data/train/tick/00000302.jpg\n",
      "Bad file: data/train/tick/00000248.jpg\n",
      "Bad file: data/train/tick/00000046.jpg\n",
      "Bad file: data/train/tick/00000133.jpg\n",
      "Bad file: data/train/tick/00000284.jpg\n",
      "Bad file: data/train/tick/00000285.jpg\n",
      "Bad file: data/train/tick/00000054.jpg\n",
      "Bad file: data/train/tick/00000083.jpg\n",
      "Bad file: data/train/tick/00000281.jpg\n",
      "Bad file: data/train/tick/00000280.jpg\n",
      "Bad file: data/train/tick/00000257.jpg\n",
      "Bad file: data/train/tick/00000109.jpg\n",
      "Bad file: data/train/tick/00000323.jpg\n",
      "Bad file: data/train/tick/00000137.jpg\n",
      "Bad file: data/train/tick/00000057.jpg\n",
      "Bad file: data/train/tick/00000080.jpg\n",
      "Bad file: data/train/tick/00000042.jpg\n",
      "Bad file: data/train/tick/00000226.jpg\n",
      "Bad file: data/train/tick/00000393.jpg\n",
      "Bad file: data/train/tick/00000230.jpg\n",
      "Bad file: data/train/tick/00000033.jpg\n",
      "Bad file: data/train/tick/00000356.jpg\n",
      "Bad file: data/train/tick/00000395.jpg\n",
      "Bad file: data/train/tick/00000196.jpg\n",
      "Bad file: data/validation/.DS_Store\n",
      "Bad file: data/test/.DS_Store\n",
      "Found 310 images belonging to 2 classes.\n",
      "Found 10 images belonging to 2 classes.\n",
      "Found 11 images belonging to 2 classes.\n"
     ]
    }
   ],
   "source": [
    "from keras.preprocessing.image import ImageDataGenerator\n",
    "from PIL import Image\n",
    "\n",
    "train_dir = 'data/train'\n",
    "validation_dir = 'data/validation'\n",
    "test_dir = 'data/test'\n",
    "\n",
    "dirs = [train_dir, validation_dir, test_dir]\n",
    "\n",
    "for dir in dirs:\n",
    "    for subdir, dirs, files in os.walk(dir):\n",
    "        for file in files:\n",
    "            file_path = os.path.join(subdir, file)\n",
    "            try:\n",
    "                img = Image.open(file_path)  # try to open the image\n",
    "                img.verify()  # verify that it is, in fact an image\n",
    "            except (IOError, SyntaxError) as e:\n",
    "                print('Bad file:', file_path)  # print out the names of corrupt files\n",
    "                os.remove(file_path)  # uncomment this line to delete these files\n",
    "\n",
    "# Set up parameters for datasets\n",
    "target_size = (150, 150)  # Resize images to 150x150\n",
    "batch_size = 32\n",
    "\n",
    "# Create an ImageDataGenerator for the training set\n",
    "train_datagen = ImageDataGenerator(rescale=1./255)  # Normalize pixel values\n",
    "\n",
    "train_generator = train_datagen.flow_from_directory(\n",
    "    train_dir,\n",
    "    target_size=target_size,  # All images will be resized to target_size\n",
    "    batch_size=batch_size,\n",
    "    class_mode='binary')  # Since you have two classes, use binary\n",
    "\n",
    "# Create an ImageDataGenerator for the validation set\n",
    "validation_datagen = ImageDataGenerator(rescale=1./255)  # Normalize pixel values\n",
    "\n",
    "validation_generator = validation_datagen.flow_from_directory(\n",
    "    validation_dir,\n",
    "    target_size=target_size,  # All images will be resized to target_size\n",
    "    batch_size=batch_size,\n",
    "    class_mode='binary')  # Since you have two classes, use binary\n",
    "\n",
    "# Create an ImageDataGenerator for the test set\n",
    "test_datagen = ImageDataGenerator(rescale=1./255)  # Normalize pixel values\n",
    "\n",
    "test_generator = test_datagen.flow_from_directory(\n",
    "    test_dir,\n",
    "    target_size=target_size,  # All images will be resized to target_size\n",
    "    batch_size=batch_size,\n",
    "    class_mode='binary')  # Since you have two classes, use binary"
   ]
  },
  {
   "cell_type": "code",
   "execution_count": null,
   "metadata": {},
   "outputs": [
    {
     "name": "stdout",
     "output_type": "stream",
     "text": [
      "Model: \"sequential_2\"\n",
      "_________________________________________________________________\n",
      " Layer (type)                Output Shape              Param #   \n",
      "=================================================================\n",
      " conv2d_8 (Conv2D)           (None, 148, 148, 32)      896       \n",
      "                                                                 \n",
      " max_pooling2d_8 (MaxPoolin  (None, 74, 74, 32)        0         \n",
      " g2D)                                                            \n",
      "                                                                 \n",
      " conv2d_9 (Conv2D)           (None, 72, 72, 64)        18496     \n",
      "                                                                 \n",
      " max_pooling2d_9 (MaxPoolin  (None, 36, 36, 64)        0         \n",
      " g2D)                                                            \n",
      "                                                                 \n",
      " conv2d_10 (Conv2D)          (None, 34, 34, 128)       73856     \n",
      "                                                                 \n",
      " max_pooling2d_10 (MaxPooli  (None, 17, 17, 128)       0         \n",
      " ng2D)                                                           \n",
      "                                                                 \n",
      " conv2d_11 (Conv2D)          (None, 15, 15, 128)       147584    \n",
      "                                                                 \n",
      " max_pooling2d_11 (MaxPooli  (None, 7, 7, 128)         0         \n",
      " ng2D)                                                           \n",
      "                                                                 \n",
      " flatten_2 (Flatten)         (None, 6272)              0         \n",
      "                                                                 \n",
      " dense_4 (Dense)             (None, 512)               3211776   \n",
      "                                                                 \n",
      " dense_5 (Dense)             (None, 1)                 513       \n",
      "                                                                 \n",
      "=================================================================\n",
      "Total params: 3453121 (13.17 MB)\n",
      "Trainable params: 3453121 (13.17 MB)\n",
      "Non-trainable params: 0 (0.00 Byte)\n",
      "_________________________________________________________________\n"
     ]
    }
   ],
   "source": [
    "from keras.models import Sequential\n",
    "from keras.layers import Conv2D, MaxPooling2D, Flatten, Dense, Dropout\n",
    "\n",
    "model = Sequential([\n",
    "    Conv2D(32, (3, 3), activation='relu', input_shape=(150, 150, 3)), # Input shape matches the target_size and 3 color channels\n",
    "    MaxPooling2D((2, 2)),\n",
    "    Conv2D(64, (3, 3), activation='relu'),\n",
    "    MaxPooling2D((2, 2)),\n",
    "    Conv2D(128, (3, 3), activation='relu'),\n",
    "    MaxPooling2D((2, 2)),\n",
    "    Conv2D(128, (3, 3), activation='relu'),\n",
    "    MaxPooling2D((2, 2)),\n",
    "    Flatten(),\n",
    "    Dense(512, activation='relu'),\n",
    "    Dense(1, activation='sigmoid')  # For binary classification, we can use a sigmoid activation function in the output layer\n",
    "])\n",
    "\n",
    "# You can see the details of the model using model.summary()\n",
    "model.summary()\n",
    "\n",
    "# Compiling the model\n",
    "model.compile(loss='binary_crossentropy',  # Binary crossentropy is a common choice for binary classification\n",
    "              optimizer='adam',\n",
    "              metrics=['accuracy'])\n"
   ]
  },
  {
   "cell_type": "code",
   "execution_count": null,
   "metadata": {},
   "outputs": [
    {
     "name": "stdout",
     "output_type": "stream",
     "text": [
      "Epoch 1/30\n"
     ]
    },
    {
     "name": "stderr",
     "output_type": "stream",
     "text": [
      "2023-05-26 12:13:21.853722: I tensorflow/core/common_runtime/executor.cc:1210] [/device:CPU:0] (DEBUG INFO) Executor start aborting (this does not indicate an error and you can ignore this message): INVALID_ARGUMENT: You must feed a value for placeholder tensor 'Placeholder/_0' with dtype int32\n",
      "\t [[{{node Placeholder/_0}}]]\n"
     ]
    },
    {
     "name": "stdout",
     "output_type": "stream",
     "text": [
      "8/9 [=========================>....] - ETA: 0s - loss: 0.7170 - accuracy: 0.5244"
     ]
    },
    {
     "name": "stderr",
     "output_type": "stream",
     "text": [
      "/Users/wachowiak/My Drive (alexander.c.wachowiak@gmail.com)/Documents/Projects/BiteScan/myenv/lib/python3.11/site-packages/PIL/Image.py:992: UserWarning: Palette images with Transparency expressed in bytes should be converted to RGBA images\n",
      "  warnings.warn(\n"
     ]
    },
    {
     "name": "stdout",
     "output_type": "stream",
     "text": [
      "9/9 [==============================] - 4s 382ms/step - loss: 0.7150 - accuracy: 0.5108\n",
      "Epoch 2/30\n"
     ]
    },
    {
     "name": "stderr",
     "output_type": "stream",
     "text": [
      "2023-05-26 12:13:25.521248: I tensorflow/core/common_runtime/executor.cc:1210] [/device:CPU:0] (DEBUG INFO) Executor start aborting (this does not indicate an error and you can ignore this message): INVALID_ARGUMENT: You must feed a value for placeholder tensor 'Placeholder/_0' with dtype int32\n",
      "\t [[{{node Placeholder/_0}}]]\n"
     ]
    },
    {
     "name": "stdout",
     "output_type": "stream",
     "text": [
      "9/9 [==============================] - 4s 394ms/step - loss: 0.6971 - accuracy: 0.4281\n",
      "Epoch 3/30\n",
      "9/9 [==============================] - 3s 348ms/step - loss: 0.6904 - accuracy: 0.5827\n",
      "Epoch 4/30\n",
      "9/9 [==============================] - 4s 377ms/step - loss: 0.6569 - accuracy: 0.6331\n",
      "Epoch 5/30\n",
      "9/9 [==============================] - 4s 386ms/step - loss: 0.6840 - accuracy: 0.6223\n",
      "Epoch 6/30\n",
      "9/9 [==============================] - 3s 351ms/step - loss: 0.6585 - accuracy: 0.6079\n",
      "Epoch 7/30\n",
      "9/9 [==============================] - 4s 382ms/step - loss: 0.6314 - accuracy: 0.6367\n",
      "Epoch 8/30\n",
      "9/9 [==============================] - 3s 335ms/step - loss: 0.5995 - accuracy: 0.6259\n",
      "Epoch 9/30\n",
      "9/9 [==============================] - 3s 349ms/step - loss: 0.5787 - accuracy: 0.6655\n",
      "Epoch 10/30\n",
      "9/9 [==============================] - 3s 354ms/step - loss: 0.5563 - accuracy: 0.6655\n",
      "Epoch 11/30\n",
      "9/9 [==============================] - 3s 348ms/step - loss: 0.5510 - accuracy: 0.7050\n",
      "Epoch 12/30\n",
      "9/9 [==============================] - 3s 316ms/step - loss: 0.5639 - accuracy: 0.7194\n",
      "Epoch 13/30\n",
      "9/9 [==============================] - 4s 381ms/step - loss: 0.5406 - accuracy: 0.7158\n",
      "Epoch 14/30\n",
      "9/9 [==============================] - 4s 388ms/step - loss: 0.5059 - accuracy: 0.7338\n",
      "Epoch 15/30\n",
      "9/9 [==============================] - 3s 378ms/step - loss: 0.4939 - accuracy: 0.7158\n",
      "Epoch 16/30\n",
      "9/9 [==============================] - 4s 364ms/step - loss: 0.5052 - accuracy: 0.7446\n",
      "Epoch 17/30\n",
      "9/9 [==============================] - 3s 380ms/step - loss: 0.4237 - accuracy: 0.7878\n",
      "Epoch 18/30\n",
      "9/9 [==============================] - 4s 386ms/step - loss: 0.4120 - accuracy: 0.8094\n",
      "Epoch 19/30\n",
      "9/9 [==============================] - 3s 345ms/step - loss: 0.3767 - accuracy: 0.7986\n",
      "Epoch 20/30\n",
      "9/9 [==============================] - 4s 378ms/step - loss: 0.3185 - accuracy: 0.8381\n",
      "Epoch 21/30\n",
      "9/9 [==============================] - 3s 314ms/step - loss: 0.2883 - accuracy: 0.8561\n",
      "Epoch 22/30\n",
      "9/9 [==============================] - 4s 389ms/step - loss: 0.2814 - accuracy: 0.8705\n",
      "Epoch 23/30\n",
      "9/9 [==============================] - 4s 375ms/step - loss: 0.2940 - accuracy: 0.8741\n",
      "Epoch 24/30\n",
      "9/9 [==============================] - 4s 419ms/step - loss: 0.2451 - accuracy: 0.8777\n",
      "Epoch 25/30\n",
      "9/9 [==============================] - 3s 292ms/step - loss: 0.2818 - accuracy: 0.8741\n",
      "Epoch 26/30\n",
      "9/9 [==============================] - 4s 417ms/step - loss: 0.2790 - accuracy: 0.8542\n",
      "Epoch 27/30\n",
      "9/9 [==============================] - 4s 504ms/step - loss: 0.2231 - accuracy: 0.9097\n",
      "Epoch 28/30\n",
      "9/9 [==============================] - 5s 554ms/step - loss: 0.2141 - accuracy: 0.8889\n",
      "Epoch 29/30\n",
      "9/9 [==============================] - 4s 489ms/step - loss: 0.1965 - accuracy: 0.9101\n",
      "Epoch 30/30\n",
      "9/9 [==============================] - 4s 429ms/step - loss: 0.1708 - accuracy: 0.9173\n"
     ]
    }
   ],
   "source": [
    "history = model.fit(\n",
    "    train_generator,\n",
    "    steps_per_epoch=train_generator.samples // batch_size,  # // operator in python performs integer division\n",
    "    epochs=30,  # You might need to adjust the number of epochs based on your specific use case\n",
    "    validation_data=validation_generator,\n",
    "    validation_steps=validation_generator.samples // batch_size\n",
    ")"
   ]
  },
  {
   "cell_type": "code",
   "execution_count": null,
   "metadata": {},
   "outputs": [
    {
     "name": "stdout",
     "output_type": "stream",
     "text": [
      "1/1 [==============================] - 0s 179ms/step - loss: 0.4749 - accuracy: 0.8182\n",
      "Test accuracy: 0.8181818127632141\n"
     ]
    },
    {
     "name": "stderr",
     "output_type": "stream",
     "text": [
      "2023-05-26 12:15:15.445908: I tensorflow/core/common_runtime/executor.cc:1210] [/device:CPU:0] (DEBUG INFO) Executor start aborting (this does not indicate an error and you can ignore this message): INVALID_ARGUMENT: You must feed a value for placeholder tensor 'Placeholder/_0' with dtype int32\n",
      "\t [[{{node Placeholder/_0}}]]\n"
     ]
    }
   ],
   "source": [
    "if test_generator.samples // batch_size > 0:\n",
    "    steps = test_generator.samples // batch_size\n",
    "else:\n",
    "    steps = 1\n",
    "\n",
    "test_loss, test_acc = model.evaluate(test_generator, steps=steps)\n",
    "print('Test accuracy:', test_acc)"
   ]
  },
  {
   "cell_type": "code",
   "execution_count": null,
   "metadata": {},
   "outputs": [],
   "source": [
    "models_dir = './models'\n",
    "os.makedirs(models_dir, exist_ok=True)  # Create the models directory if it doesn't exist\n",
    "\n",
    "# Save the trained model in the models directory\n",
    "model.save(os.path.join(models_dir, 'my_model.h5'))\n",
    "\n",
    "model.save('model_tick_mosquito_classifier.h5')\n",
    "\n",
    "converter = tf.lite.TFLiteConverter.from_keras_model_file('model_tick_mosquito_classifier.h5')\n",
    "tflite_model = converter.convert()\n",
    "\n",
    "# Save the TFLite model to a file\n",
    "with open('model_tick_mosquito_classifier.tflite', 'wb') as f:\n",
    "    f.write(tflite_model)\n",
    "\n",
    "print('Model saved to: model_tick_mosquito_classifier.tflite')"
   ]
  }
 ],
 "metadata": {
  "kernelspec": {
   "display_name": "myenv",
   "language": "python",
   "name": "python3"
  },
  "language_info": {
   "codemirror_mode": {
    "name": "ipython",
    "version": 3
   },
   "file_extension": ".py",
   "mimetype": "text/x-python",
   "name": "python",
   "nbconvert_exporter": "python",
   "pygments_lexer": "ipython3",
   "version": "3.11.2"
  },
  "orig_nbformat": 4
 },
 "nbformat": 4,
 "nbformat_minor": 2
}
